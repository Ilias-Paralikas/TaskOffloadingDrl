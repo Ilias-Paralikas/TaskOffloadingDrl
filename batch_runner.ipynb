{
 "cells": [
  {
   "cell_type": "code",
   "execution_count": 3,
   "metadata": {},
   "outputs": [],
   "source": [
    "import os\n",
    "\n",
    "task_arrives = [0.1,0.3,0.5,0.7,0.9]\n",
    "hyperparameters_command = 'python hyperparameters/__init__.py   --decision_makers all_local  --default_task_arrive_probabilities  '\n",
    "\n",
    "main_runner  ='python main.py  --epochs 100'\n",
    "\n",
    "for task_arrive in task_arrives:\n",
    "    command = hyperparameters_command + str(task_arrive)\n",
    "    os.system(command)\n",
    "    os.system(main_runner)\n",
    " "
   ]
  }
 ],
 "metadata": {
  "kernelspec": {
   "display_name": "Python 3",
   "language": "python",
   "name": "python3"
  },
  "language_info": {
   "codemirror_mode": {
    "name": "ipython",
    "version": 3
   },
   "file_extension": ".py",
   "mimetype": "text/x-python",
   "name": "python",
   "nbconvert_exporter": "python",
   "pygments_lexer": "ipython3",
   "version": "3.11.5"
  }
 },
 "nbformat": 4,
 "nbformat_minor": 2
}
